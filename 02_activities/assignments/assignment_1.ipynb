{
  "cells": [
    {
      "cell_type": "markdown",
      "id": "927ae8f4",
      "metadata": {
        "id": "927ae8f4"
      },
      "source": [
        "# Assignment 1 - Building a Vision Model with Keras\n",
        "\n",
        "In this assignment, you will build a simple vision model using Keras. The goal is to classify images from the Fashion MNIST dataset, which contains images of clothing items.\n",
        "\n",
        "You will:\n",
        "1. Load and inspect the Fashion MNIST dataset.\n",
        "2. Run a simple baseline model to establish a performance benchmark.\n",
        "3. Build and evaluate a simple CNN model, choosing appropriate loss and metrics.\n",
        "4. Design and run controlled experiments on one hyperparameter (e.g., number of filters, kernel size, etc.) and one regularization technique (e.g., dropout, L2 regularization).\n",
        "5. Analyze the results and visualize the model's performance.\n",
        "\n",
        "# 1. Loading and Inspecting the Dataset\n",
        "\n",
        "Fashion MNIST is a dataset of grayscale images of clothing items, with 10 classes. Each image is 28x28 pixels, like the MNIST dataset of handwritten digits. Keras provides a convenient way to load this dataset.\n",
        "\n",
        "In this section, you should:\n",
        "\n",
        "- [ ] Inspect the shapes of the training and test sets to confirm their size and structure.\n",
        "- [ ] Convert the labels to one-hot encoded format if necessary. (There is a utility function in Keras for this.)\n",
        "- [ ] Visualize a few images from the dataset to understand what the data looks like."
      ]
    },
    {
      "cell_type": "code",
      "execution_count": 1,
      "id": "420c7178",
      "metadata": {
        "id": "420c7178"
      },
      "outputs": [],
      "source": [
        "from tensorflow.keras.datasets import fashion_mnist\n",
        "from tensorflow.keras.utils import to_categorical\n",
        "from tensorflow.keras.layers import Dropout\n",
        "from tensorflow.keras.optimizers import Adam,SGD"
      ]
    },
    {
      "cell_type": "code",
      "source": [
        "gpu_info = !nvidia-smi\n",
        "gpu_info = '\\n'.join(gpu_info)\n",
        "if gpu_info.find('failed') >= 0:\n",
        "  print('Not connected to a GPU')\n",
        "else:\n",
        "  print(gpu_info)"
      ],
      "metadata": {
        "colab": {
          "base_uri": "https://localhost:8080/"
        },
        "id": "liPo-sOp40Op",
        "outputId": "77e789d7-5f68-40ce-fc19-b23c595c3b92"
      },
      "id": "liPo-sOp40Op",
      "execution_count": 2,
      "outputs": [
        {
          "output_type": "stream",
          "name": "stdout",
          "text": [
            "Sun Jul 13 14:44:32 2025       \n",
            "+-----------------------------------------------------------------------------------------+\n",
            "| NVIDIA-SMI 550.54.15              Driver Version: 550.54.15      CUDA Version: 12.4     |\n",
            "|-----------------------------------------+------------------------+----------------------+\n",
            "| GPU  Name                 Persistence-M | Bus-Id          Disp.A | Volatile Uncorr. ECC |\n",
            "| Fan  Temp   Perf          Pwr:Usage/Cap |           Memory-Usage | GPU-Util  Compute M. |\n",
            "|                                         |                        |               MIG M. |\n",
            "|=========================================+========================+======================|\n",
            "|   0  Tesla T4                       Off |   00000000:00:04.0 Off |                    0 |\n",
            "| N/A   42C    P8              9W /   70W |       0MiB /  15360MiB |      0%      Default |\n",
            "|                                         |                        |                  N/A |\n",
            "+-----------------------------------------+------------------------+----------------------+\n",
            "                                                                                         \n",
            "+-----------------------------------------------------------------------------------------+\n",
            "| Processes:                                                                              |\n",
            "|  GPU   GI   CI        PID   Type   Process name                              GPU Memory |\n",
            "|        ID   ID                                                               Usage      |\n",
            "|=========================================================================================|\n",
            "|  No running processes found                                                             |\n",
            "+-----------------------------------------------------------------------------------------+\n"
          ]
        }
      ]
    },
    {
      "cell_type": "code",
      "execution_count": 3,
      "metadata": {
        "colab": {
          "base_uri": "https://localhost:8080/"
        },
        "id": "RITREceVGKcF",
        "outputId": "3fc0dcc7-aeb5-4c09-d90a-56aa3e90e8eb"
      },
      "outputs": [
        {
          "output_type": "stream",
          "name": "stdout",
          "text": [
            "Downloading data from https://storage.googleapis.com/tensorflow/tf-keras-datasets/train-labels-idx1-ubyte.gz\n",
            "\u001b[1m29515/29515\u001b[0m \u001b[32m━━━━━━━━━━━━━━━━━━━━\u001b[0m\u001b[37m\u001b[0m \u001b[1m0s\u001b[0m 0us/step\n",
            "Downloading data from https://storage.googleapis.com/tensorflow/tf-keras-datasets/train-images-idx3-ubyte.gz\n",
            "\u001b[1m26421880/26421880\u001b[0m \u001b[32m━━━━━━━━━━━━━━━━━━━━\u001b[0m\u001b[37m\u001b[0m \u001b[1m2s\u001b[0m 0us/step\n",
            "Downloading data from https://storage.googleapis.com/tensorflow/tf-keras-datasets/t10k-labels-idx1-ubyte.gz\n",
            "\u001b[1m5148/5148\u001b[0m \u001b[32m━━━━━━━━━━━━━━━━━━━━\u001b[0m\u001b[37m\u001b[0m \u001b[1m0s\u001b[0m 0us/step\n",
            "Downloading data from https://storage.googleapis.com/tensorflow/tf-keras-datasets/t10k-images-idx3-ubyte.gz\n",
            "\u001b[1m4422102/4422102\u001b[0m \u001b[32m━━━━━━━━━━━━━━━━━━━━\u001b[0m\u001b[37m\u001b[0m \u001b[1m1s\u001b[0m 0us/step\n"
          ]
        }
      ],
      "source": [
        "\n",
        "(X_train, y_train), (X_test, y_test) = fashion_mnist.load_data()\n",
        "\n",
        "# Normalize the pixel values to be between 0 and 1\n",
        "X_train = X_train.astype('float32') / 255.0\n",
        "X_test = X_test.astype('float32') / 255.0\n",
        "\n",
        "# Classes in the Fashion MNIST dataset\n",
        "class_names = [\"T-shirt/top\", \"Trouser\", \"Pullover\", \"Dress\", \"Coat\", \"Sandal\", \"Shirt\", \"Sneaker\", \"Bag\", \"Ankle boot\"]"
      ],
      "id": "RITREceVGKcF"
    },
    {
      "cell_type": "code",
      "execution_count": 4,
      "id": "a6c89fe7",
      "metadata": {
        "colab": {
          "base_uri": "https://localhost:8080/"
        },
        "id": "a6c89fe7",
        "outputId": "56eb6126-f557-4969-87b2-b5bdb2d6a8cb"
      },
      "outputs": [
        {
          "output_type": "stream",
          "name": "stdout",
          "text": [
            "X train data (60000, 28, 28)\n",
            "X test data (10000, 28, 28)\n",
            "y train data [9 0 0 ... 3 0 5]\n",
            "y test data [9 2 1 ... 8 1 5]\n",
            "Before one-hot encoding: 9\n",
            "After one-hot encoding: [0. 0. 0. 0. 0. 0. 0. 0. 0. 1.]\n"
          ]
        }
      ],
      "source": [
        "# Inspect the shapes of the datasets\n",
        "print(\"X train data\",X_train.shape)\n",
        "print(\"X test data\",X_test.shape)\n",
        "print(\"y train data\",y_train)\n",
        "print('y test data',y_test)\n",
        "\n",
        "# Convert labels to one-hot encoding\n",
        "\n",
        "\n",
        "print(f'Before one-hot encoding: {y_train[0]}')\n",
        "y_train = to_categorical(y_train, num_classes=10)\n",
        "y_test = to_categorical(y_test, num_classes=10)\n",
        "print(f'After one-hot encoding: {y_train[0]}')\n"
      ]
    },
    {
      "cell_type": "code",
      "execution_count": 5,
      "id": "13e100db",
      "metadata": {
        "colab": {
          "base_uri": "https://localhost:8080/",
          "height": 521
        },
        "id": "13e100db",
        "outputId": "733b04b6-cf60-4e21-d9bb-1b1b06280de3"
      },
      "outputs": [
        {
          "output_type": "display_data",
          "data": {
            "text/plain": [
              "<Figure size 600x600 with 9 Axes>"
            ],
            "image/png": "[encoded data removed]"
          },
          "metadata": {}
        }
      ],
      "source": [
        "import matplotlib.pyplot as plt\n",
        "import numpy as np\n",
        "# Verify the data looks as expected\n",
        "# Selecting 9 random indices\n",
        "random_indices = np.random.choice(len(X_train), 9, replace=False)\n",
        "\n",
        "# Creating a 3x3 grid plot\n",
        "fig, axes = plt.subplots(3, 3, figsize=(6, 6))\n",
        "\n",
        "for i, ax in enumerate(axes.flat):\n",
        "    ax.imshow(X_train[random_indices[i]], cmap=plt.cm.gray_r, interpolation='nearest')\n",
        "    ax.set_title(f\"Label: {y_train[random_indices[i]]}\")\n",
        "\n",
        "    # Removing axis labels\n",
        "    ax.set_xticks([])\n",
        "    ax.set_yticks([])\n",
        "\n",
        "plt.show()\n"
      ]
    },
    {
      "cell_type": "markdown",
      "id": "989f7dd0",
      "metadata": {
        "id": "989f7dd0"
      },
      "source": [
        "Reflection: Does the data look as expected? How is the quality of the images? Are there any issues with the dataset that you notice?\n",
        "\n",
        "## Images doesnot seem good quality yet probably due to model is not trained/fit yet"
      ]
    },
    {
      "cell_type": "markdown",
      "id": "c9e8ad60",
      "metadata": {
        "id": "c9e8ad60"
      },
      "source": [
        "# 2. Baseline Model\n",
        "\n",
        "In this section, you will create a linear regression model as a baseline. This model will not use any convolutional layers, but it will help you understand the performance of a simple model on this dataset.\n",
        "You should:\n",
        "- [ ] Create a simple linear regression model using Keras.\n",
        "- [ ] Compile the model with an appropriate loss function and optimizer.\n",
        "- [ ] Train the model on the training set and evaluate it on the test set.\n",
        "\n",
        "A linear regression model can be created using the `Sequential` API in Keras. Using a single `Dense` layer with no activation function is equivalent to a simple linear regression model. Make sure that the number of units in the output layer matches the number of classes in the dataset.\n",
        "\n",
        "Note that for this step, we will need to use `Flatten` to convert the 2D images into 1D vectors before passing them to the model. Put a `Flatten()` layer as the first layer in your model so that the 2D image data can be flattened into 1D vectors."
      ]
    },
    {
      "cell_type": "code",
      "execution_count": 6,
      "id": "8563a7aa",
      "metadata": {
        "colab": {
          "base_uri": "https://localhost:8080/"
        },
        "id": "8563a7aa",
        "outputId": "8899e645-aa5a-4408-eb1a-d6927fed35a2"
      },
      "outputs": [
        {
          "output_type": "stream",
          "name": "stderr",
          "text": [
            "/usr/local/lib/python3.11/dist-packages/keras/src/layers/core/dense.py:87: UserWarning: Do not pass an `input_shape`/`input_dim` argument to a layer. When using Sequential models, prefer using an `Input(shape)` object as the first layer in the model instead.\n",
            "  super().__init__(activity_regularizer=activity_regularizer, **kwargs)\n"
          ]
        },
        {
          "output_type": "stream",
          "name": "stdout",
          "text": [
            "Epoch 1/10\n",
            "\u001b[1m1875/1875\u001b[0m \u001b[32m━━━━━━━━━━━━━━━━━━━━\u001b[0m\u001b[37m\u001b[0m \u001b[1m5s\u001b[0m 2ms/step - accuracy: 0.3594 - loss: 1.9610\n",
            "Epoch 2/10\n",
            "\u001b[1m1875/1875\u001b[0m \u001b[32m━━━━━━━━━━━━━━━━━━━━\u001b[0m\u001b[37m\u001b[0m \u001b[1m3s\u001b[0m 2ms/step - accuracy: 0.6633 - loss: 1.0623\n",
            "Epoch 3/10\n",
            "\u001b[1m1875/1875\u001b[0m \u001b[32m━━━━━━━━━━━━━━━━━━━━\u001b[0m\u001b[37m\u001b[0m \u001b[1m3s\u001b[0m 2ms/step - accuracy: 0.7165 - loss: 0.8282\n",
            "Epoch 4/10\n",
            "\u001b[1m1875/1875\u001b[0m \u001b[32m━━━━━━━━━━━━━━━━━━━━\u001b[0m\u001b[37m\u001b[0m \u001b[1m3s\u001b[0m 2ms/step - accuracy: 0.7484 - loss: 0.7319\n",
            "Epoch 5/10\n",
            "\u001b[1m1875/1875\u001b[0m \u001b[32m━━━━━━━━━━━━━━━━━━━━\u001b[0m\u001b[37m\u001b[0m \u001b[1m3s\u001b[0m 2ms/step - accuracy: 0.7724 - loss: 0.6654\n",
            "Epoch 6/10\n",
            "\u001b[1m1875/1875\u001b[0m \u001b[32m━━━━━━━━━━━━━━━━━━━━\u001b[0m\u001b[37m\u001b[0m \u001b[1m3s\u001b[0m 2ms/step - accuracy: 0.7842 - loss: 0.6334\n",
            "Epoch 7/10\n",
            "\u001b[1m1875/1875\u001b[0m \u001b[32m━━━━━━━━━━━━━━━━━━━━\u001b[0m\u001b[37m\u001b[0m \u001b[1m3s\u001b[0m 2ms/step - accuracy: 0.7965 - loss: 0.5943\n",
            "Epoch 8/10\n",
            "\u001b[1m1875/1875\u001b[0m \u001b[32m━━━━━━━━━━━━━━━━━━━━\u001b[0m\u001b[37m\u001b[0m \u001b[1m3s\u001b[0m 2ms/step - accuracy: 0.8094 - loss: 0.5668\n",
            "Epoch 9/10\n",
            "\u001b[1m1875/1875\u001b[0m \u001b[32m━━━━━━━━━━━━━━━━━━━━\u001b[0m\u001b[37m\u001b[0m \u001b[1m3s\u001b[0m 2ms/step - accuracy: 0.8135 - loss: 0.5509\n",
            "Epoch 10/10\n",
            "\u001b[1m1875/1875\u001b[0m \u001b[32m━━━━━━━━━━━━━━━━━━━━\u001b[0m\u001b[37m\u001b[0m \u001b[1m4s\u001b[0m 2ms/step - accuracy: 0.8187 - loss: 0.5335\n",
            "\u001b[1m313/313\u001b[0m \u001b[32m━━━━━━━━━━━━━━━━━━━━\u001b[0m\u001b[37m\u001b[0m \u001b[1m1s\u001b[0m 3ms/step - accuracy: 0.8106 - loss: 0.5408\n"
          ]
        }
      ],
      "source": [
        "from keras.models import Sequential\n",
        "from keras.layers import Dense, Flatten\n",
        "\n",
        "# Create a simple linear regression model\n",
        "# You can use `model.add(<layer>)` to add layers to the model\n",
        "model = Sequential()\n",
        "model.add(Flatten())\n",
        "model.add(Dense(64,activation='relu',input_shape=(28,28)))\n",
        "model.add(Flatten())\n",
        "model.add(Dense(64,activation='relu'))\n",
        "model.add(Dense(10,activation='softmax'))\n",
        "\n",
        "# Compile the model using `model.compile()`\n",
        "model.compile(optimizer=SGD(learning_rate=0.001,momentum=0.01),loss='categorical_crossentropy',metrics=['accuracy'])\n",
        "\n",
        "# Train the model with `model.fit()`\n",
        "model.fit(X_train,y_train,batch_size=32,epochs=10)\n",
        "\n",
        "# Evaluate the model with `model.evaluate()`\n",
        "results = model.evaluate(X_test,y_test,batch_size=32)"
      ]
    },
    {
      "cell_type": "code",
      "source": [
        "print(f'Test Loss, Test Accuracy with SGD optimizer',results)"
      ],
      "metadata": {
        "colab": {
          "base_uri": "https://localhost:8080/"
        },
        "id": "hbbunsXTIcMI",
        "outputId": "4f7578d9-1421-43c0-f20e-0ef67d5828f1"
      },
      "id": "hbbunsXTIcMI",
      "execution_count": 7,
      "outputs": [
        {
          "output_type": "stream",
          "name": "stdout",
          "text": [
            "Test Loss, Test Accuracy with SGD optimizer [0.5490541458129883, 0.8069000244140625]\n"
          ]
        }
      ]
    },
    {
      "cell_type": "code",
      "source": [
        "from keras.models import Sequential\n",
        "from keras.layers import Dense, Flatten\n",
        "\n",
        "# Create a simple linear regression model\n",
        "# You can use `model.add(<layer>)` to add layers to the model\n",
        "model = Sequential()\n",
        "model.add(Flatten())\n",
        "model.add(Dense(64,activation='relu',input_shape=(28,28)))\n",
        "model.add(Flatten())\n",
        "model.add(Dense(64,activation='relu'))\n",
        "model.add(Dense(10,activation='softmax'))\n",
        "\n",
        "# Compile the model using `model.compile()`\n",
        "model.compile(optimizer=Adam(learning_rate=0.001),loss='categorical_crossentropy',metrics=['accuracy'])\n",
        "\n",
        "# Train the model with `model.fit()`\n",
        "model.fit(X_train,y_train,batch_size=32,epochs=10)\n",
        "\n",
        "# Evaluate the model with `model.evaluate()`\n",
        "results = model.evaluate(X_test,y_test,batch_size=32)"
      ],
      "metadata": {
        "colab": {
          "base_uri": "https://localhost:8080/"
        },
        "id": "1zuzBxQbITag",
        "outputId": "15d604b8-974c-481d-d563-0f87a0075bfd"
      },
      "id": "1zuzBxQbITag",
      "execution_count": 8,
      "outputs": [
        {
          "output_type": "stream",
          "name": "stdout",
          "text": [
            "Epoch 1/10\n",
            "\u001b[1m1875/1875\u001b[0m \u001b[32m━━━━━━━━━━━━━━━━━━━━\u001b[0m\u001b[37m\u001b[0m \u001b[1m5s\u001b[0m 2ms/step - accuracy: 0.7605 - loss: 0.6825\n",
            "Epoch 2/10\n",
            "\u001b[1m1875/1875\u001b[0m \u001b[32m━━━━━━━━━━━━━━━━━━━━\u001b[0m\u001b[37m\u001b[0m \u001b[1m4s\u001b[0m 2ms/step - accuracy: 0.8605 - loss: 0.3803\n",
            "Epoch 3/10\n",
            "\u001b[1m1875/1875\u001b[0m \u001b[32m━━━━━━━━━━━━━━━━━━━━\u001b[0m\u001b[37m\u001b[0m \u001b[1m4s\u001b[0m 2ms/step - accuracy: 0.8736 - loss: 0.3489\n",
            "Epoch 4/10\n",
            "\u001b[1m1875/1875\u001b[0m \u001b[32m━━━━━━━━━━━━━━━━━━━━\u001b[0m\u001b[37m\u001b[0m \u001b[1m4s\u001b[0m 2ms/step - accuracy: 0.8814 - loss: 0.3239\n",
            "Epoch 5/10\n",
            "\u001b[1m1875/1875\u001b[0m \u001b[32m━━━━━━━━━━━━━━━━━━━━\u001b[0m\u001b[37m\u001b[0m \u001b[1m4s\u001b[0m 2ms/step - accuracy: 0.8861 - loss: 0.3062\n",
            "Epoch 6/10\n",
            "\u001b[1m1875/1875\u001b[0m \u001b[32m━━━━━━━━━━━━━━━━━━━━\u001b[0m\u001b[37m\u001b[0m \u001b[1m4s\u001b[0m 2ms/step - accuracy: 0.8917 - loss: 0.2931\n",
            "Epoch 7/10\n",
            "\u001b[1m1875/1875\u001b[0m \u001b[32m━━━━━━━━━━━━━━━━━━━━\u001b[0m\u001b[37m\u001b[0m \u001b[1m3s\u001b[0m 2ms/step - accuracy: 0.8971 - loss: 0.2754\n",
            "Epoch 8/10\n",
            "\u001b[1m1875/1875\u001b[0m \u001b[32m━━━━━━━━━━━━━━━━━━━━\u001b[0m\u001b[37m\u001b[0m \u001b[1m4s\u001b[0m 2ms/step - accuracy: 0.8989 - loss: 0.2708\n",
            "Epoch 9/10\n",
            "\u001b[1m1875/1875\u001b[0m \u001b[32m━━━━━━━━━━━━━━━━━━━━\u001b[0m\u001b[37m\u001b[0m \u001b[1m4s\u001b[0m 2ms/step - accuracy: 0.9031 - loss: 0.2588\n",
            "Epoch 10/10\n",
            "\u001b[1m1875/1875\u001b[0m \u001b[32m━━━━━━━━━━━━━━━━━━━━\u001b[0m\u001b[37m\u001b[0m \u001b[1m3s\u001b[0m 2ms/step - accuracy: 0.9035 - loss: 0.2559\n",
            "\u001b[1m313/313\u001b[0m \u001b[32m━━━━━━━━━━━━━━━━━━━━\u001b[0m\u001b[37m\u001b[0m \u001b[1m1s\u001b[0m 2ms/step - accuracy: 0.8756 - loss: 0.3586\n"
          ]
        }
      ]
    },
    {
      "cell_type": "code",
      "source": [
        "print(f'Test Loss, Test Accuracy with Adam Optimizeer',results)"
      ],
      "metadata": {
        "colab": {
          "base_uri": "https://localhost:8080/"
        },
        "id": "eNRx-adtUx-e",
        "outputId": "f659a2d3-c92f-428b-f877-359930d2c636"
      },
      "id": "eNRx-adtUx-e",
      "execution_count": 9,
      "outputs": [
        {
          "output_type": "stream",
          "name": "stdout",
          "text": [
            "Test Loss, Test Accuracy with Adam Optimizeer [0.35017532110214233, 0.878000020980835]\n"
          ]
        }
      ]
    },
    {
      "cell_type": "markdown",
      "id": "9a07e9f7",
      "metadata": {
        "id": "9a07e9f7"
      },
      "source": [
        "Reflection: What is the performance of the baseline model? How does it compare to what you expected? Why do you think the performance is at this level?\n",
        "\n",
        "**Your answer here**\n",
        "# For Base Model using just Sequential API without using CNN, Perforamnce is around 87% which is Not bad or Good depending on how u look. It's definitely can be improved to around 95% or so since to classify images of this low accuracy is not good. Also, Test Loss seems to be around 35% which is kinda bad"
      ]
    },
    {
      "cell_type": "markdown",
      "source": [
        "Reflection: What is the performance of the baseline model? How does it compare to what you expected? Why do you think the performance is at this level?\n",
        "\n",
        "## Performance is low due to not applying Convolution yet as Convolution architecture is designed to improve the performance in recognizing the images using convolution, kernel/filter and applying MaxPooling/Avg. Pooling etc"
      ],
      "metadata": {
        "id": "1dAR23AmVmxl"
      },
      "id": "1dAR23AmVmxl"
    },
    {
      "cell_type": "markdown",
      "id": "fa107b59",
      "metadata": {
        "id": "fa107b59"
      },
      "source": [
        "# 3. Building and Evaluating a Simple CNN Model\n",
        "\n",
        "In this section, you will build a simple Convolutional Neural Network (CNN) model using Keras. A convolutional neural network is a type of deep learning model that is particularly effective for image classification tasks. Unlike the basic neural networks we have built in the labs, CNNs can accept images as input without needing to flatten them into vectors.\n",
        "\n",
        "You should:\n",
        "- [ ] Build a simple CNN model with at least one convolutional layer (to learn spatial hierarchies in images) and one fully connected layer (to make predictions).\n",
        "- [ ] Compile the model with an appropriate loss function and metrics for a multi-class classification problem.\n",
        "- [ ] Train the model on the training set and evaluate it on the test set.\n",
        "\n",
        "Convolutional layers are designed to accept inputs with three dimensions: height, width and channels (e.g., RGB for color images). For grayscale images like those in Fashion MNIST, the input shape will be (28, 28, 1).\n",
        "\n",
        "When you progress from the convolutional layers to the fully connected layers, you will need to flatten the output of the convolutional layers. This can be done using the `Flatten` layer in Keras, which doesn't require any parameters."
      ]
    },
    {
      "cell_type": "code",
      "execution_count": 10,
      "id": "3513cf3d",
      "metadata": {
        "id": "3513cf3d",
        "colab": {
          "base_uri": "https://localhost:8080/"
        },
        "outputId": "2fe48ea1-0599-431f-9a8d-c08ce99d7373"
      },
      "outputs": [
        {
          "output_type": "stream",
          "name": "stdout",
          "text": [
            "Shape of X_train (60000, 28, 28, 1)\n",
            "Shape of X_train (10000, 28, 28, 1)\n"
          ]
        },
        {
          "output_type": "stream",
          "name": "stderr",
          "text": [
            "/usr/local/lib/python3.11/dist-packages/keras/src/layers/convolutional/base_conv.py:107: UserWarning: Do not pass an `input_shape`/`input_dim` argument to a layer. When using Sequential models, prefer using an `Input(shape)` object as the first layer in the model instead.\n",
            "  super().__init__(activity_regularizer=activity_regularizer, **kwargs)\n"
          ]
        },
        {
          "output_type": "stream",
          "name": "stdout",
          "text": [
            "Epoch 1/10\n",
            "\u001b[1m1875/1875\u001b[0m \u001b[32m━━━━━━━━━━━━━━━━━━━━\u001b[0m\u001b[37m\u001b[0m \u001b[1m15s\u001b[0m 6ms/step - accuracy: 0.1298 - loss: 2.2957\n",
            "Epoch 2/10\n",
            "\u001b[1m1875/1875\u001b[0m \u001b[32m━━━━━━━━━━━━━━━━━━━━\u001b[0m\u001b[37m\u001b[0m \u001b[1m11s\u001b[0m 6ms/step - accuracy: 0.3474 - loss: 2.0442\n",
            "Epoch 3/10\n",
            "\u001b[1m1875/1875\u001b[0m \u001b[32m━━━━━━━━━━━━━━━━━━━━\u001b[0m\u001b[37m\u001b[0m \u001b[1m11s\u001b[0m 6ms/step - accuracy: 0.6852 - loss: 0.8369\n",
            "Epoch 4/10\n",
            "\u001b[1m1875/1875\u001b[0m \u001b[32m━━━━━━━━━━━━━━━━━━━━\u001b[0m\u001b[37m\u001b[0m \u001b[1m11s\u001b[0m 6ms/step - accuracy: 0.7308 - loss: 0.7141\n",
            "Epoch 5/10\n",
            "\u001b[1m1875/1875\u001b[0m \u001b[32m━━━━━━━━━━━━━━━━━━━━\u001b[0m\u001b[37m\u001b[0m \u001b[1m11s\u001b[0m 6ms/step - accuracy: 0.7560 - loss: 0.6600\n",
            "Epoch 6/10\n",
            "\u001b[1m1875/1875\u001b[0m \u001b[32m━━━━━━━━━━━━━━━━━━━━\u001b[0m\u001b[37m\u001b[0m \u001b[1m12s\u001b[0m 6ms/step - accuracy: 0.7739 - loss: 0.6143\n",
            "Epoch 7/10\n",
            "\u001b[1m1875/1875\u001b[0m \u001b[32m━━━━━━━━━━━━━━━━━━━━\u001b[0m\u001b[37m\u001b[0m \u001b[1m12s\u001b[0m 6ms/step - accuracy: 0.7848 - loss: 0.5826\n",
            "Epoch 8/10\n",
            "\u001b[1m1875/1875\u001b[0m \u001b[32m━━━━━━━━━━━━━━━━━━━━\u001b[0m\u001b[37m\u001b[0m \u001b[1m12s\u001b[0m 6ms/step - accuracy: 0.7996 - loss: 0.5451\n",
            "Epoch 9/10\n",
            "\u001b[1m1875/1875\u001b[0m \u001b[32m━━━━━━━━━━━━━━━━━━━━\u001b[0m\u001b[37m\u001b[0m \u001b[1m12s\u001b[0m 6ms/step - accuracy: 0.8097 - loss: 0.5227\n",
            "Epoch 10/10\n",
            "\u001b[1m1875/1875\u001b[0m \u001b[32m━━━━━━━━━━━━━━━━━━━━\u001b[0m\u001b[37m\u001b[0m \u001b[1m11s\u001b[0m 6ms/step - accuracy: 0.8169 - loss: 0.5054\n",
            "\u001b[1m313/313\u001b[0m \u001b[32m━━━━━━━━━━━━━━━━━━━━\u001b[0m\u001b[37m\u001b[0m \u001b[1m2s\u001b[0m 5ms/step - accuracy: 0.8197 - loss: 0.5171\n"
          ]
        }
      ],
      "source": [
        "from keras.layers import Conv2D,MaxPooling2D\n",
        "\n",
        "# Reshape the data to include the channel dimension\n",
        "X_train = X_train.reshape(-1, 28, 28, 1)\n",
        "X_test = X_test.reshape(-1, 28, 28, 1)\n",
        "print(f'Shape of X_train {X_train.shape}')\n",
        "print(f'Shape of X_train {X_test.shape}')\n",
        "\n",
        "# Create a simple CNN model\n",
        "model = Sequential()\n",
        "model.add(Conv2D(64,7,activation='relu',padding='same',input_shape=[28,28,1]))\n",
        "model.add(MaxPooling2D(2))\n",
        "model.add(Conv2D(128,3,activation='relu',padding='same'))\n",
        "model.add(Conv2D(128,3,activation='relu',padding='same'))\n",
        "model.add(MaxPooling2D(2))\n",
        "model.add(Conv2D(256,3,activation='relu',padding='same'))\n",
        "model.add(Conv2D(256,3,activation='relu',padding='same'))\n",
        "model.add(MaxPooling2D(2))\n",
        "model.add(Flatten())\n",
        "model.add(Dense(64,activation='relu'))\n",
        "model.add(Dense(64,activation='relu'))\n",
        "model.add(Dense(10,activation='softmax'))\n",
        "\n",
        "# # Compile the model using `model.compile()`\n",
        "model.compile(optimizer=SGD(learning_rate=0.001,momentum=0.01),loss='categorical_crossentropy',metrics=['accuracy'])\n",
        "\n",
        "# # Train the model with `model.fit()`\n",
        "# # Train the model\n",
        "model.fit(X_train,y_train,epochs=10,batch_size=32)\n",
        "\n",
        "\n",
        "# # Evaluate the model\n",
        "# # Evaluate the model with `model.evaluate()`\n",
        "result = model.evaluate(X_test,y_test)"
      ]
    },
    {
      "cell_type": "code",
      "source": [
        "print(f'Test Loss, Test Accuracy with SGD',result)"
      ],
      "metadata": {
        "colab": {
          "base_uri": "https://localhost:8080/"
        },
        "id": "sSHTp0C4Ol0g",
        "outputId": "775461c2-a976-48d0-e52d-aafc2137d8a6"
      },
      "id": "sSHTp0C4Ol0g",
      "execution_count": 11,
      "outputs": [
        {
          "output_type": "stream",
          "name": "stdout",
          "text": [
            "Test Loss, Test Accuracy with SGD [0.5143336653709412, 0.8187000155448914]\n"
          ]
        }
      ]
    },
    {
      "cell_type": "code",
      "source": [
        "from keras.layers import Conv2D,MaxPooling2D\n",
        "\n",
        "# Reshape the data to include the channel dimension\n",
        "X_train = X_train.reshape(-1, 28, 28, 1)\n",
        "X_test = X_test.reshape(-1, 28, 28, 1)\n",
        "print(f'Shape of X_train {X_train.shape}')\n",
        "print(f'Shape of X_train {X_test.shape}')\n",
        "\n",
        "# Create a simple CNN model\n",
        "model = Sequential()\n",
        "model.add(Conv2D(64,7,activation='relu',padding='same',input_shape=[28,28,1]))\n",
        "model.add(MaxPooling2D(2))\n",
        "model.add(Conv2D(128,3,activation='relu',padding='same'))\n",
        "model.add(Conv2D(128,3,activation='relu',padding='same'))\n",
        "model.add(MaxPooling2D(2))\n",
        "model.add(Conv2D(256,3,activation='relu',padding='same'))\n",
        "model.add(Conv2D(256,3,activation='relu',padding='same'))\n",
        "model.add(MaxPooling2D(2))\n",
        "model.add(Flatten())\n",
        "model.add(Dense(64,activation='relu'))\n",
        "model.add(Dense(64,activation='relu'))\n",
        "model.add(Dense(10,activation='softmax'))\n",
        "\n",
        "# # Compile the model using `model.compile()`\n",
        "model.compile(optimizer=Adam(learning_rate=0.001),loss='categorical_crossentropy',metrics=['accuracy'])\n",
        "\n",
        "# # Train the model with `model.fit()`\n",
        "# # Train the model\n",
        "model.fit(X_train,y_train,epochs=10,batch_size=32)\n",
        "\n",
        "\n",
        "# # Evaluate the model\n",
        "# # Evaluate the model with `model.evaluate()`\n",
        "result = model.evaluate(X_test,y_test)"
      ],
      "metadata": {
        "colab": {
          "base_uri": "https://localhost:8080/"
        },
        "id": "bgE2jEmhOgtA",
        "outputId": "65d68db5-9e48-4a5b-b1f5-93737bd45f37"
      },
      "id": "bgE2jEmhOgtA",
      "execution_count": 12,
      "outputs": [
        {
          "output_type": "stream",
          "name": "stdout",
          "text": [
            "Shape of X_train (60000, 28, 28, 1)\n",
            "Shape of X_train (10000, 28, 28, 1)\n",
            "Epoch 1/10\n",
            "\u001b[1m1875/1875\u001b[0m \u001b[32m━━━━━━━━━━━━━━━━━━━━\u001b[0m\u001b[37m\u001b[0m \u001b[1m16s\u001b[0m 7ms/step - accuracy: 0.7592 - loss: 0.6575\n",
            "Epoch 2/10\n",
            "\u001b[1m1875/1875\u001b[0m \u001b[32m━━━━━━━━━━━━━━━━━━━━\u001b[0m\u001b[37m\u001b[0m \u001b[1m12s\u001b[0m 7ms/step - accuracy: 0.8858 - loss: 0.3004\n",
            "Epoch 3/10\n",
            "\u001b[1m1875/1875\u001b[0m \u001b[32m━━━━━━━━━━━━━━━━━━━━\u001b[0m\u001b[37m\u001b[0m \u001b[1m12s\u001b[0m 7ms/step - accuracy: 0.9073 - loss: 0.2485\n",
            "Epoch 4/10\n",
            "\u001b[1m1875/1875\u001b[0m \u001b[32m━━━━━━━━━━━━━━━━━━━━\u001b[0m\u001b[37m\u001b[0m \u001b[1m12s\u001b[0m 7ms/step - accuracy: 0.9181 - loss: 0.2190\n",
            "Epoch 5/10\n",
            "\u001b[1m1875/1875\u001b[0m \u001b[32m━━━━━━━━━━━━━━━━━━━━\u001b[0m\u001b[37m\u001b[0m \u001b[1m12s\u001b[0m 7ms/step - accuracy: 0.9298 - loss: 0.1859\n",
            "Epoch 6/10\n",
            "\u001b[1m1875/1875\u001b[0m \u001b[32m━━━━━━━━━━━━━━━━━━━━\u001b[0m\u001b[37m\u001b[0m \u001b[1m12s\u001b[0m 7ms/step - accuracy: 0.9369 - loss: 0.1671\n",
            "Epoch 7/10\n",
            "\u001b[1m1875/1875\u001b[0m \u001b[32m━━━━━━━━━━━━━━━━━━━━\u001b[0m\u001b[37m\u001b[0m \u001b[1m12s\u001b[0m 6ms/step - accuracy: 0.9458 - loss: 0.1453\n",
            "Epoch 8/10\n",
            "\u001b[1m1875/1875\u001b[0m \u001b[32m━━━━━━━━━━━━━━━━━━━━\u001b[0m\u001b[37m\u001b[0m \u001b[1m12s\u001b[0m 7ms/step - accuracy: 0.9520 - loss: 0.1293\n",
            "Epoch 9/10\n",
            "\u001b[1m1875/1875\u001b[0m \u001b[32m━━━━━━━━━━━━━━━━━━━━\u001b[0m\u001b[37m\u001b[0m \u001b[1m12s\u001b[0m 7ms/step - accuracy: 0.9584 - loss: 0.1106\n",
            "Epoch 10/10\n",
            "\u001b[1m1875/1875\u001b[0m \u001b[32m━━━━━━━━━━━━━━━━━━━━\u001b[0m\u001b[37m\u001b[0m \u001b[1m12s\u001b[0m 6ms/step - accuracy: 0.9646 - loss: 0.0961\n",
            "\u001b[1m313/313\u001b[0m \u001b[32m━━━━━━━━━━━━━━━━━━━━\u001b[0m\u001b[37m\u001b[0m \u001b[1m2s\u001b[0m 4ms/step - accuracy: 0.9110 - loss: 0.3293\n"
          ]
        }
      ]
    },
    {
      "cell_type": "code",
      "source": [
        "print(f'Test Loss, Test Accuracy with Adam',result)"
      ],
      "metadata": {
        "colab": {
          "base_uri": "https://localhost:8080/"
        },
        "id": "NQRbbOVV7j3I",
        "outputId": "88475a2f-12d9-401a-f8cc-06f284fec288"
      },
      "id": "NQRbbOVV7j3I",
      "execution_count": 13,
      "outputs": [
        {
          "output_type": "stream",
          "name": "stdout",
          "text": [
            "Test Loss, Test Accuracy with Adam [0.3035420775413513, 0.914900004863739]\n"
          ]
        }
      ]
    },
    {
      "cell_type": "markdown",
      "id": "fabe379c",
      "metadata": {
        "id": "fabe379c"
      },
      "source": [
        "Reflection: Did the CNN model perform better than the baseline model? If so, by how much? What do you think contributed to this improvement?\n",
        "\n",
        "**Your answer here**\n",
        "## As you can see, Accuracy went up to 91% which is signifantly better than Base model accuracy of 87%. Using Convolution filters/kernel and Max Pooling of subsampling helped to reduce memory requirement, less parameters etc improving the performance of overall model due to CNN reading the patterns in the image data better. There is room for performance by changing Hyper parameters and get the best parameters to achieve highes performance"
      ]
    },
    {
      "cell_type": "markdown",
      "id": "1a5e2463",
      "metadata": {
        "id": "1a5e2463"
      },
      "source": [
        "# 3. Designing and Running Controlled Experiments\n",
        "\n",
        "In this section, you will design and run controlled experiments to improve the model's performance. You will focus on one hyperparameter and one regularization technique.\n",
        "You should:\n",
        "- [ ] Choose one hyperparameter to experiment with (e.g., number of filters, kernel size, number of layers, etc.) and one regularization technique (e.g., dropout, L2 regularization). For your hyperparameter, you should choose at least three different values to test (but there is no upper limit). For your regularization technique, simply test the presence or absence of the technique.\n",
        "- [ ] Run experiments by modifying the model architecture or hyperparameters, and evaluate the performance of each model on the test set.\n",
        "- [ ] Record the results of your experiments, including the test accuracy and any other relevant metrics.\n",
        "- [ ] Visualize the results of your experiments using plots or tables to compare the performance of different models.\n",
        "\n",
        "The best way to run your experiments is to create a `for` loop that iterates over a range of values for the hyperparameter you are testing. For example, if you are testing different numbers of filters, you can create a loop that runs the model with 32, 64, and 128 filters. Within the loop, you can compile and train the model, then evaluate it on the test set. After each iteration, you can store the results in a list or a dictionary for later analysis.\n",
        "\n",
        "Note: It's critical that you re-initialize the model (by creating a new instance of the model) before each experiment. If you don't, the model will retain the weights from the previous experiment, which can lead to misleading results."
      ]
    },
    {
      "cell_type": "code",
      "execution_count": 14,
      "id": "99d6f46c",
      "metadata": {
        "id": "99d6f46c",
        "colab": {
          "base_uri": "https://localhost:8080/"
        },
        "outputId": "3c932e69-c919-4655-f88a-dd5d9a3beea0"
      },
      "outputs": [
        {
          "output_type": "stream",
          "name": "stdout",
          "text": [
            "STEP 1\n",
            "Epoch 1/10\n",
            "\u001b[1m1875/1875\u001b[0m \u001b[32m━━━━━━━━━━━━━━━━━━━━\u001b[0m\u001b[37m\u001b[0m \u001b[1m8s\u001b[0m 3ms/step - accuracy: 0.6669 - loss: 0.8626\n",
            "Epoch 2/10\n",
            "\u001b[1m1875/1875\u001b[0m \u001b[32m━━━━━━━━━━━━━━━━━━━━\u001b[0m\u001b[37m\u001b[0m \u001b[1m5s\u001b[0m 3ms/step - accuracy: 0.7857 - loss: 0.5654\n",
            "Epoch 3/10\n",
            "\u001b[1m1875/1875\u001b[0m \u001b[32m━━━━━━━━━━━━━━━━━━━━\u001b[0m\u001b[37m\u001b[0m \u001b[1m5s\u001b[0m 3ms/step - accuracy: 0.7947 - loss: 0.5331\n",
            "Epoch 4/10\n",
            "\u001b[1m1875/1875\u001b[0m \u001b[32m━━━━━━━━━━━━━━━━━━━━\u001b[0m\u001b[37m\u001b[0m \u001b[1m5s\u001b[0m 3ms/step - accuracy: 0.8016 - loss: 0.5173\n",
            "Epoch 5/10\n",
            "\u001b[1m1875/1875\u001b[0m \u001b[32m━━━━━━━━━━━━━━━━━━━━\u001b[0m\u001b[37m\u001b[0m \u001b[1m5s\u001b[0m 3ms/step - accuracy: 0.8088 - loss: 0.5004\n",
            "Epoch 6/10\n",
            "\u001b[1m1875/1875\u001b[0m \u001b[32m━━━━━━━━━━━━━━━━━━━━\u001b[0m\u001b[37m\u001b[0m \u001b[1m5s\u001b[0m 3ms/step - accuracy: 0.8118 - loss: 0.4961\n",
            "Epoch 7/10\n",
            "\u001b[1m1875/1875\u001b[0m \u001b[32m━━━━━━━━━━━━━━━━━━━━\u001b[0m\u001b[37m\u001b[0m \u001b[1m5s\u001b[0m 3ms/step - accuracy: 0.8124 - loss: 0.4975\n",
            "Epoch 8/10\n",
            "\u001b[1m1875/1875\u001b[0m \u001b[32m━━━━━━━━━━━━━━━━━━━━\u001b[0m\u001b[37m\u001b[0m \u001b[1m5s\u001b[0m 3ms/step - accuracy: 0.8125 - loss: 0.4911\n",
            "Epoch 9/10\n",
            "\u001b[1m1875/1875\u001b[0m \u001b[32m━━━━━━━━━━━━━━━━━━━━\u001b[0m\u001b[37m\u001b[0m \u001b[1m5s\u001b[0m 3ms/step - accuracy: 0.8136 - loss: 0.4868\n",
            "Epoch 10/10\n",
            "\u001b[1m1875/1875\u001b[0m \u001b[32m━━━━━━━━━━━━━━━━━━━━\u001b[0m\u001b[37m\u001b[0m \u001b[1m5s\u001b[0m 3ms/step - accuracy: 0.8146 - loss: 0.4903\n",
            "\u001b[1m313/313\u001b[0m \u001b[32m━━━━━━━━━━━━━━━━━━━━\u001b[0m\u001b[37m\u001b[0m \u001b[1m2s\u001b[0m 3ms/step - accuracy: 0.7997 - loss: 0.5358\n",
            "STEP 17\n",
            "Epoch 1/10\n",
            "\u001b[1m1875/1875\u001b[0m \u001b[32m━━━━━━━━━━━━━━━━━━━━\u001b[0m\u001b[37m\u001b[0m \u001b[1m24s\u001b[0m 11ms/step - accuracy: 0.1021 - loss: 23.0495\n",
            "Epoch 2/10\n",
            "\u001b[1m1875/1875\u001b[0m \u001b[32m━━━━━━━━━━━━━━━━━━━━\u001b[0m\u001b[37m\u001b[0m \u001b[1m20s\u001b[0m 11ms/step - accuracy: 0.0978 - loss: 2.3041\n",
            "Epoch 3/10\n",
            "\u001b[1m1875/1875\u001b[0m \u001b[32m━━━━━━━━━━━━━━━━━━━━\u001b[0m\u001b[37m\u001b[0m \u001b[1m20s\u001b[0m 11ms/step - accuracy: 0.0969 - loss: 2.3043\n",
            "Epoch 4/10\n",
            "\u001b[1m1875/1875\u001b[0m \u001b[32m━━━━━━━━━━━━━━━━━━━━\u001b[0m\u001b[37m\u001b[0m \u001b[1m20s\u001b[0m 11ms/step - accuracy: 0.1012 - loss: 2.3038\n",
            "Epoch 5/10\n",
            "\u001b[1m1875/1875\u001b[0m \u001b[32m━━━━━━━━━━━━━━━━━━━━\u001b[0m\u001b[37m\u001b[0m \u001b[1m20s\u001b[0m 11ms/step - accuracy: 0.1000 - loss: 2.3041\n",
            "Epoch 6/10\n",
            "\u001b[1m1875/1875\u001b[0m \u001b[32m━━━━━━━━━━━━━━━━━━━━\u001b[0m\u001b[37m\u001b[0m \u001b[1m20s\u001b[0m 11ms/step - accuracy: 0.1018 - loss: 2.3040\n",
            "Epoch 7/10\n",
            "\u001b[1m1875/1875\u001b[0m \u001b[32m━━━━━━━━━━━━━━━━━━━━\u001b[0m\u001b[37m\u001b[0m \u001b[1m20s\u001b[0m 11ms/step - accuracy: 0.0977 - loss: 2.3041\n",
            "Epoch 8/10\n",
            "\u001b[1m1875/1875\u001b[0m \u001b[32m━━━━━━━━━━━━━━━━━━━━\u001b[0m\u001b[37m\u001b[0m \u001b[1m20s\u001b[0m 11ms/step - accuracy: 0.0972 - loss: 2.3042\n",
            "Epoch 9/10\n",
            "\u001b[1m1875/1875\u001b[0m \u001b[32m━━━━━━━━━━━━━━━━━━━━\u001b[0m\u001b[37m\u001b[0m \u001b[1m20s\u001b[0m 11ms/step - accuracy: 0.0979 - loss: 2.3041\n",
            "Epoch 10/10\n",
            "\u001b[1m1875/1875\u001b[0m \u001b[32m━━━━━━━━━━━━━━━━━━━━\u001b[0m\u001b[37m\u001b[0m \u001b[1m20s\u001b[0m 11ms/step - accuracy: 0.0996 - loss: 2.3041\n",
            "\u001b[1m313/313\u001b[0m \u001b[32m━━━━━━━━━━━━━━━━━━━━\u001b[0m\u001b[37m\u001b[0m \u001b[1m3s\u001b[0m 6ms/step - accuracy: 0.0969 - loss: 2.3044\n"
          ]
        }
      ],
      "source": [
        "# A. Test Hyperparameters\n",
        "result_list = []\n",
        "for filter in range(1,33,16):\n",
        "  # Create a simple CNN model\n",
        "  print('STEP',filter)\n",
        "  model = Sequential()\n",
        "  model.add(Conv2D(64,filter,activation='relu',padding='same',input_shape=[28,28,1]))\n",
        "  model.add(MaxPooling2D(2))\n",
        "  model.add(Conv2D(64,filter,activation='relu',padding='same'))\n",
        "  model.add(Conv2D(64,filter,activation='relu',padding='same'))\n",
        "  model.add(MaxPooling2D(2))\n",
        "  model.add(Conv2D(64,filter,activation='relu',padding='same'))\n",
        "  model.add(Conv2D(64,filter,activation='relu',padding='same'))\n",
        "  model.add(MaxPooling2D(2))\n",
        "  model.add(Flatten())\n",
        "  model.add(Dense(64,activation='relu'))\n",
        "  model.add(Dense(64,activation='relu'))\n",
        "  model.add(Dense(10,activation='softmax'))\n",
        "\n",
        "  # # Compile the model using `model.compile()`\n",
        "  model.compile(optimizer=SGD(learning_rate=0.01),loss='categorical_crossentropy',metrics=['accuracy'])\n",
        "\n",
        "  # # Train the model with `model.fit()`\n",
        "  # # Train the model\n",
        "  model.fit(X_train,y_train,epochs=10,batch_size=32)\n",
        "\n",
        "\n",
        "  # # Evaluate the model\n",
        "  # # Evaluate the model with `model.evaluate()`\n",
        "  result = model.evaluate(X_test,y_test)\n",
        "  result_list.append(result)\n"
      ]
    },
    {
      "cell_type": "code",
      "source": [
        "for item in result_list:\n",
        "  print(f'Test Loss, accuracy {item}')"
      ],
      "metadata": {
        "colab": {
          "base_uri": "https://localhost:8080/"
        },
        "id": "oVPucfqJ7cCM",
        "outputId": "7b9d9972-3e48-46e0-b5a4-b429cdeed45a"
      },
      "id": "oVPucfqJ7cCM",
      "execution_count": 15,
      "outputs": [
        {
          "output_type": "stream",
          "name": "stdout",
          "text": [
            "Test Loss, accuracy [0.5314091444015503, 0.7997000217437744]\n",
            "Test Loss, accuracy [2.30362606048584, 0.10000000149011612]\n"
          ]
        }
      ]
    },
    {
      "cell_type": "markdown",
      "source": [
        "# I found if I use Adam optimizer, Accuracy is going down so I switched over to SGD with default learning rate and momentum"
      ],
      "metadata": {
        "id": "a5E8lZvYUASx"
      },
      "id": "a5E8lZvYUASx"
    },
    {
      "cell_type": "markdown",
      "source": [
        "# Accuracy went up to 93% but came down to 79% but I only had 2 iterations to optimize Hyper parameters due to long time taking if I increase iterations to 4 or 5"
      ],
      "metadata": {
        "id": "MAsW03ydCh5Z"
      },
      "id": "MAsW03ydCh5Z"
    },
    {
      "cell_type": "code",
      "execution_count": 19,
      "id": "dc43ac81",
      "metadata": {
        "id": "dc43ac81",
        "colab": {
          "base_uri": "https://localhost:8080/"
        },
        "outputId": "9126c764-22ed-421b-b26f-ff510de8328a"
      },
      "outputs": [
        {
          "output_type": "stream",
          "name": "stdout",
          "text": [
            "STEP 1\n"
          ]
        },
        {
          "output_type": "stream",
          "name": "stderr",
          "text": [
            "/usr/local/lib/python3.11/dist-packages/keras/src/layers/convolutional/base_conv.py:107: UserWarning: Do not pass an `input_shape`/`input_dim` argument to a layer. When using Sequential models, prefer using an `Input(shape)` object as the first layer in the model instead.\n",
            "  super().__init__(activity_regularizer=activity_regularizer, **kwargs)\n"
          ]
        },
        {
          "output_type": "stream",
          "name": "stdout",
          "text": [
            "Epoch 1/10\n",
            "\u001b[1m1875/1875\u001b[0m \u001b[32m━━━━━━━━━━━━━━━━━━━━\u001b[0m\u001b[37m\u001b[0m \u001b[1m8s\u001b[0m 3ms/step - accuracy: 0.1190 - loss: 2.2999\n",
            "Epoch 2/10\n",
            "\u001b[1m1875/1875\u001b[0m \u001b[32m━━━━━━━━━━━━━━━━━━━━\u001b[0m\u001b[37m\u001b[0m \u001b[1m6s\u001b[0m 3ms/step - accuracy: 0.1674 - loss: 2.2896\n",
            "Epoch 3/10\n",
            "\u001b[1m1875/1875\u001b[0m \u001b[32m━━━━━━━━━━━━━━━━━━━━\u001b[0m\u001b[37m\u001b[0m \u001b[1m6s\u001b[0m 3ms/step - accuracy: 0.1949 - loss: 2.2741\n",
            "Epoch 4/10\n",
            "\u001b[1m1875/1875\u001b[0m \u001b[32m━━━━━━━━━━━━━━━━━━━━\u001b[0m\u001b[37m\u001b[0m \u001b[1m6s\u001b[0m 3ms/step - accuracy: 0.2147 - loss: 2.2430\n",
            "Epoch 5/10\n",
            "\u001b[1m1875/1875\u001b[0m \u001b[32m━━━━━━━━━━━━━━━━━━━━\u001b[0m\u001b[37m\u001b[0m \u001b[1m6s\u001b[0m 3ms/step - accuracy: 0.2366 - loss: 2.1635\n",
            "Epoch 6/10\n",
            "\u001b[1m1875/1875\u001b[0m \u001b[32m━━━━━━━━━━━━━━━━━━━━\u001b[0m\u001b[37m\u001b[0m \u001b[1m6s\u001b[0m 3ms/step - accuracy: 0.2702 - loss: 1.9732\n",
            "Epoch 7/10\n",
            "\u001b[1m1875/1875\u001b[0m \u001b[32m━━━━━━━━━━━━━━━━━━━━\u001b[0m\u001b[37m\u001b[0m \u001b[1m6s\u001b[0m 3ms/step - accuracy: 0.3244 - loss: 1.7633\n",
            "Epoch 8/10\n",
            "\u001b[1m1875/1875\u001b[0m \u001b[32m━━━━━━━━━━━━━━━━━━━━\u001b[0m\u001b[37m\u001b[0m \u001b[1m6s\u001b[0m 3ms/step - accuracy: 0.3538 - loss: 1.6461\n",
            "Epoch 9/10\n",
            "\u001b[1m1875/1875\u001b[0m \u001b[32m━━━━━━━━━━━━━━━━━━━━\u001b[0m\u001b[37m\u001b[0m \u001b[1m6s\u001b[0m 3ms/step - accuracy: 0.3835 - loss: 1.5675\n",
            "Epoch 10/10\n",
            "\u001b[1m1875/1875\u001b[0m \u001b[32m━━━━━━━━━━━━━━━━━━━━\u001b[0m\u001b[37m\u001b[0m \u001b[1m6s\u001b[0m 3ms/step - accuracy: 0.4002 - loss: 1.5114\n",
            "\u001b[1m313/313\u001b[0m \u001b[32m━━━━━━━━━━━━━━━━━━━━\u001b[0m\u001b[37m\u001b[0m \u001b[1m1s\u001b[0m 3ms/step - accuracy: 0.5147 - loss: 1.2510\n",
            "STEP 17\n",
            "Epoch 1/10\n",
            "\u001b[1m1875/1875\u001b[0m \u001b[32m━━━━━━━━━━━━━━━━━━━━\u001b[0m\u001b[37m\u001b[0m \u001b[1m85s\u001b[0m 44ms/step - accuracy: 0.1544 - loss: 2.3009\n",
            "Epoch 2/10\n",
            "\u001b[1m1875/1875\u001b[0m \u001b[32m━━━━━━━━━━━━━━━━━━━━\u001b[0m\u001b[37m\u001b[0m \u001b[1m82s\u001b[0m 44ms/step - accuracy: 0.2299 - loss: 2.2753\n",
            "Epoch 3/10\n",
            "\u001b[1m1875/1875\u001b[0m \u001b[32m━━━━━━━━━━━━━━━━━━━━\u001b[0m\u001b[37m\u001b[0m \u001b[1m82s\u001b[0m 44ms/step - accuracy: 0.3020 - loss: 1.9204\n",
            "Epoch 4/10\n",
            "\u001b[1m1875/1875\u001b[0m \u001b[32m━━━━━━━━━━━━━━━━━━━━\u001b[0m\u001b[37m\u001b[0m \u001b[1m82s\u001b[0m 44ms/step - accuracy: 0.4918 - loss: 1.4329\n",
            "Epoch 5/10\n",
            "\u001b[1m1875/1875\u001b[0m \u001b[32m━━━━━━━━━━━━━━━━━━━━\u001b[0m\u001b[37m\u001b[0m \u001b[1m82s\u001b[0m 44ms/step - accuracy: 0.5709 - loss: 1.1979\n",
            "Epoch 6/10\n",
            "\u001b[1m1875/1875\u001b[0m \u001b[32m━━━━━━━━━━━━━━━━━━━━\u001b[0m\u001b[37m\u001b[0m \u001b[1m82s\u001b[0m 44ms/step - accuracy: 0.6113 - loss: 1.0633\n",
            "Epoch 7/10\n",
            "\u001b[1m1875/1875\u001b[0m \u001b[32m━━━━━━━━━━━━━━━━━━━━\u001b[0m\u001b[37m\u001b[0m \u001b[1m82s\u001b[0m 44ms/step - accuracy: 0.6430 - loss: 0.9858\n",
            "Epoch 8/10\n",
            "\u001b[1m1875/1875\u001b[0m \u001b[32m━━━━━━━━━━━━━━━━━━━━\u001b[0m\u001b[37m\u001b[0m \u001b[1m82s\u001b[0m 44ms/step - accuracy: 0.6631 - loss: 0.9217\n",
            "Epoch 9/10\n",
            "\u001b[1m1875/1875\u001b[0m \u001b[32m━━━━━━━━━━━━━━━━━━━━\u001b[0m\u001b[37m\u001b[0m \u001b[1m82s\u001b[0m 44ms/step - accuracy: 0.6812 - loss: 0.8780\n",
            "Epoch 10/10\n",
            "\u001b[1m1875/1875\u001b[0m \u001b[32m━━━━━━━━━━━━━━━━━━━━\u001b[0m\u001b[37m\u001b[0m \u001b[1m82s\u001b[0m 44ms/step - accuracy: 0.6917 - loss: 0.8429\n",
            "\u001b[1m313/313\u001b[0m \u001b[32m━━━━━━━━━━━━━━━━━━━━\u001b[0m\u001b[37m\u001b[0m \u001b[1m4s\u001b[0m 10ms/step - accuracy: 0.7593 - loss: 0.6473\n"
          ]
        }
      ],
      "source": [
        "# B. Test presence or absence of regularization\n",
        "# A. Test Hyperparameters\n",
        "result_list = []\n",
        "for filter in range(1,33,16):\n",
        "  print('STEP',filter)\n",
        "  # Create a simple CNN model\n",
        "  model = Sequential()\n",
        "  model.add(Conv2D(64,filter,activation='relu',padding='same',input_shape=[28,28,1]))\n",
        "  model.add(MaxPooling2D(2))\n",
        "  model.add(Conv2D(128,filter,activation='relu',padding='same'))\n",
        "  model.add(Conv2D(128,filter,activation='relu',padding='same'))\n",
        "  model.add(MaxPooling2D(2))\n",
        "  model.add(Conv2D(256,filter,activation='relu',padding='same'))\n",
        "  model.add(Conv2D(256,filter,activation='relu',padding='same'))\n",
        "  model.add(MaxPooling2D(2))\n",
        "  model.add(Flatten())\n",
        "  model.add(Dense(64,activation='relu'))\n",
        "  model.add(Dropout(0.5))\n",
        "  model.add(Dense(64,activation='relu'))\n",
        "  model.add(Dropout(0.5))\n",
        "  model.add(Dense(10,activation='softmax'))\n",
        "\n",
        "  # # Compile the model using `model.compile()`\n",
        "  model.compile(optimizer=SGD(learning_rate=0.001),loss='categorical_crossentropy',metrics=['accuracy'])\n",
        "\n",
        "  # # Train the model with `model.fit()`\n",
        "  # # Train the model\n",
        "  model.fit(X_train,y_train,epochs=10,batch_size=32)\n",
        "\n",
        "\n",
        "  # # Evaluate the model\n",
        "  # # Evaluate the model with `model.evaluate()`\n",
        "  result = model.evaluate(X_test,y_test)\n",
        "  result_list.append(result)\n"
      ]
    },
    {
      "cell_type": "markdown",
      "source": [
        "## I tried to increase range Max upto 256 but it's taking long time to train even with TPU/GPU's in google colab so I reduce to 64 with increment of 16. Performance has gone up to almost 90%. due to applying Drop out to fix regualarization if any."
      ],
      "metadata": {
        "id": "C24Shd2J7Lyy"
      },
      "id": "C24Shd2J7Lyy"
    },
    {
      "cell_type": "markdown",
      "source": [
        "## After applying Drop out"
      ],
      "metadata": {
        "id": "NRlP1sH19oWi"
      },
      "id": "NRlP1sH19oWi"
    },
    {
      "cell_type": "code",
      "source": [
        "for item in result_list:\n",
        "  print(f'Test Loss, accuracy {item}')"
      ],
      "metadata": {
        "colab": {
          "base_uri": "https://localhost:8080/"
        },
        "id": "7aDdITTw9rJp",
        "outputId": "c606e857-4a51-435a-c14a-5769ffc077af"
      },
      "id": "7aDdITTw9rJp",
      "execution_count": 20,
      "outputs": [
        {
          "output_type": "stream",
          "name": "stdout",
          "text": [
            "Test Loss, accuracy [1.2447173595428467, 0.5175999999046326]\n",
            "Test Loss, accuracy [0.6471859216690063, 0.7567999958992004]\n"
          ]
        }
      ]
    },
    {
      "cell_type": "markdown",
      "source": [
        "#Test Accuracy stabilized around 76% with Drop out, learning rate=0.001 with SGD optimizer. May be if we use automated Hyper parameter tuners like Optuna or Keras Tuner, and get more GPU, we can run for longer iterations and extract Best Performance training model"
      ],
      "metadata": {
        "id": "7pZ_gPHdKsYg"
      },
      "id": "7pZ_gPHdKsYg"
    },
    {
      "cell_type": "markdown",
      "source": [
        "I found that SGD optimizer is giving better accuracy over Adam so I switched over to SGD with default learning rate"
      ],
      "metadata": {
        "id": "qiQhUHqnYpLn"
      },
      "id": "qiQhUHqnYpLn"
    },
    {
      "cell_type": "markdown",
      "id": "cb426f26",
      "metadata": {
        "id": "cb426f26"
      },
      "source": [
        "Reflection: Report on the performance of the models you tested. Did any of the changes you made improve the model's performance? If so, which ones? What do you think contributed to these improvements? Finally, what combination of hyperparameters and regularization techniques yielded the best performance?\n",
        "\n",
        "**Your answer here**"
      ]
    },
    {
      "cell_type": "markdown",
      "id": "46c43a3d",
      "metadata": {
        "id": "46c43a3d"
      },
      "source": [
        "# 5. Training Final Model and Evaluation\n",
        "\n",
        "In this section, you will train the final model using the best hyperparameters and regularization techniques you found in the previous section. You should:\n",
        "- [ ] Compile the final model with the best hyperparameters and regularization techniques.\n",
        "- [ ] Train the final model on the training set and evaluate it on the test set.\n",
        "- [ ] Report the final model's performance on the test set, including accuracy and any other relevant metrics."
      ]
    },
    {
      "cell_type": "code",
      "execution_count": 21,
      "id": "31f926d1",
      "metadata": {
        "id": "31f926d1",
        "colab": {
          "base_uri": "https://localhost:8080/"
        },
        "outputId": "0a795ad4-66f5-4b14-871e-8869757597a9"
      },
      "outputs": [
        {
          "output_type": "stream",
          "name": "stdout",
          "text": [
            "Epoch 1/10\n",
            "\u001b[1m1875/1875\u001b[0m \u001b[32m━━━━━━━━━━━━━━━━━━━━\u001b[0m\u001b[37m\u001b[0m \u001b[1m84s\u001b[0m 44ms/step - accuracy: 0.1392 - loss: 2.2999\n",
            "Epoch 2/10\n",
            "\u001b[1m1875/1875\u001b[0m \u001b[32m━━━━━━━━━━━━━━━━━━━━\u001b[0m\u001b[37m\u001b[0m \u001b[1m82s\u001b[0m 44ms/step - accuracy: 0.2052 - loss: 2.2083\n",
            "Epoch 3/10\n",
            "\u001b[1m1875/1875\u001b[0m \u001b[32m━━━━━━━━━━━━━━━━━━━━\u001b[0m\u001b[37m\u001b[0m \u001b[1m82s\u001b[0m 44ms/step - accuracy: 0.3804 - loss: 1.6778\n",
            "Epoch 4/10\n",
            "\u001b[1m1875/1875\u001b[0m \u001b[32m━━━━━━━━━━━━━━━━━━━━\u001b[0m\u001b[37m\u001b[0m \u001b[1m82s\u001b[0m 44ms/step - accuracy: 0.5111 - loss: 1.3436\n",
            "Epoch 5/10\n",
            "\u001b[1m1875/1875\u001b[0m \u001b[32m━━━━━━━━━━━━━━━━━━━━\u001b[0m\u001b[37m\u001b[0m \u001b[1m82s\u001b[0m 44ms/step - accuracy: 0.5679 - loss: 1.1837\n",
            "Epoch 6/10\n",
            "\u001b[1m1875/1875\u001b[0m \u001b[32m━━━━━━━━━━━━━━━━━━━━\u001b[0m\u001b[37m\u001b[0m \u001b[1m82s\u001b[0m 44ms/step - accuracy: 0.6025 - loss: 1.0884\n",
            "Epoch 7/10\n",
            "\u001b[1m1875/1875\u001b[0m \u001b[32m━━━━━━━━━━━━━━━━━━━━\u001b[0m\u001b[37m\u001b[0m \u001b[1m82s\u001b[0m 44ms/step - accuracy: 0.6268 - loss: 1.0177\n",
            "Epoch 8/10\n",
            "\u001b[1m1875/1875\u001b[0m \u001b[32m━━━━━━━━━━━━━━━━━━━━\u001b[0m\u001b[37m\u001b[0m \u001b[1m82s\u001b[0m 44ms/step - accuracy: 0.6475 - loss: 0.9448\n",
            "Epoch 9/10\n",
            "\u001b[1m1875/1875\u001b[0m \u001b[32m━━━━━━━━━━━━━━━━━━━━\u001b[0m\u001b[37m\u001b[0m \u001b[1m82s\u001b[0m 44ms/step - accuracy: 0.6676 - loss: 0.8986\n",
            "Epoch 10/10\n",
            "\u001b[1m1875/1875\u001b[0m \u001b[32m━━━━━━━━━━━━━━━━━━━━\u001b[0m\u001b[37m\u001b[0m \u001b[1m82s\u001b[0m 44ms/step - accuracy: 0.6882 - loss: 0.8499\n",
            "\u001b[1m313/313\u001b[0m \u001b[32m━━━━━━━━━━━━━━━━━━━━\u001b[0m\u001b[37m\u001b[0m \u001b[1m4s\u001b[0m 10ms/step - accuracy: 0.7556 - loss: 0.6522\n"
          ]
        }
      ],
      "source": [
        "# B. Test presence or absence of regularization\n",
        "# A. Test Hyperparameters\n",
        "# Create a simple CNN model\n",
        "model = Sequential()\n",
        "model.add(Conv2D(64,filter,activation='relu',padding='same',input_shape=[28,28,1]))\n",
        "model.add(MaxPooling2D(2))\n",
        "model.add(Conv2D(128,filter,activation='relu',padding='same'))\n",
        "model.add(Conv2D(128,filter,activation='relu',padding='same'))\n",
        "model.add(MaxPooling2D(2))\n",
        "model.add(Conv2D(256,filter,activation='relu',padding='same'))\n",
        "model.add(Conv2D(256,filter,activation='relu',padding='same'))\n",
        "model.add(MaxPooling2D(2))\n",
        "model.add(Flatten())\n",
        "model.add(Dense(64,activation='relu'))\n",
        "model.add(Dropout(0.5))\n",
        "model.add(Dense(64,activation='relu'))\n",
        "model.add(Dropout(0.5))\n",
        "model.add(Dense(10,activation='softmax'))\n",
        "\n",
        "#Compile the model using `model.compile()`\n",
        "model.compile(optimizer=SGD(learning_rate=0.001),loss='categorical_crossentropy',metrics=['accuracy'])\n",
        "\n",
        "# # Train the model with `model.fit()`\n",
        "# # Train the model\n",
        "model.fit(X_train,y_train,epochs=10,batch_size=32)\n",
        "\n",
        "\n",
        "# # Evaluate the model\n",
        "# # Evaluate the model with `model.evaluate()`\n",
        "result = model.evaluate(X_test,y_test)\n"
      ]
    },
    {
      "cell_type": "code",
      "source": [
        "print(f'Final Test Loss, accuracy {item}')"
      ],
      "metadata": {
        "colab": {
          "base_uri": "https://localhost:8080/"
        },
        "id": "sF5sn-1HEXug",
        "outputId": "7668c26c-462b-45f6-c747-33626978edc5"
      },
      "id": "sF5sn-1HEXug",
      "execution_count": 22,
      "outputs": [
        {
          "output_type": "stream",
          "name": "stdout",
          "text": [
            "Final Test Loss, accuracy [0.6471859216690063, 0.7567999958992004]\n"
          ]
        }
      ]
    },
    {
      "cell_type": "markdown",
      "source": [
        "## Final Test Loss stabilied around 75%. Didnt improve much. But If I can rework again"
      ],
      "metadata": {
        "id": "C6wxMNTNOItw"
      },
      "id": "C6wxMNTNOItw"
    },
    {
      "cell_type": "markdown",
      "source": [
        "##  I would use automated tools to search for Hyperparameters Optimization like Keras Tuner or Optuna\n",
        "# https://optuna.org/\n",
        "# https://www.tensorflow.org/tutorials/keras/keras_tuner"
      ],
      "metadata": {
        "id": "9oADNlU6EeH3"
      },
      "id": "9oADNlU6EeH3"
    },
    {
      "cell_type": "markdown",
      "id": "a01f8ebc",
      "metadata": {
        "id": "a01f8ebc"
      },
      "source": [
        "Reflection: How does the final model's performance compare to the baseline and the CNN model? What do you think contributed to the final model's performance? If you had time, what other experiments would you run to further improve the model's performance?\n",
        "\n",
        "**Your answer here**"
      ]
    },
    {
      "cell_type": "markdown",
      "source": [
        "# I would also use MLFlow for Experiementation Tracking and compare visually to see which model performs better and deploy that model in production"
      ],
      "metadata": {
        "id": "KtcmTTJ4E9Ua"
      },
      "id": "KtcmTTJ4E9Ua"
    },
    {
      "cell_type": "markdown",
      "id": "01db8512",
      "metadata": {
        "id": "01db8512"
      },
      "source": [
        "🚨 **Please review our [Assignment Submission Guide](https://github.com/UofT-DSI/onboarding/blob/main/onboarding_documents/submissions.md)** 🚨 for detailed instructions on how to format, branch, and submit your work. Following these guidelines is crucial for your submissions to be evaluated correctly.\n",
        "### Submission Parameters:\n",
        "* Submission Due Date: `23:59 PM - 06/07/2025`\n",
        "* The branch name for your repo should be: `assignment-1`\n",
        "* What to submit for this assignment:\n",
        "    * This Jupyter Notebook (assignment_1.ipynb)\n",
        "    * The Lab 1 notebook (labs/lab_1.ipynb)\n",
        "    * The Lab 2 notebook (labs/lab_2.ipynb)\n",
        "* What the pull request link should look like for this assignment: `https://github.com/<your_github_username>/deep_learning/pull/<pr_id>`\n",
        "* Open a private window in your browser. Copy and paste the link to your pull request into the address bar. Make sure you can see your pull request properly. This helps the technical facilitator and learning support staff review your submission easily.\n",
        "Checklist:\n",
        "- [ ] Created a branch with the correct naming convention.\n",
        "- [ ] Ensured that the repository is public.\n",
        "- [ ] Reviewed the PR description guidelines and adhered to them.\n",
        "- [ ] Verify that the link is accessible in a private browser window.\n",
        "If you encounter any difficulties or have questions, please don't hesitate to reach out to our team via our Slack at `#cohort-6-ml-help`. Our Technical Facilitators and Learning Support staff are here to help you navigate any challenges."
      ]
    }
  ],
  "metadata": {
    "kernelspec": {
      "display_name": "Python 3",
      "name": "python3"
    },
    "language_info": {
      "codemirror_mode": {
        "name": "ipython",
        "version": 3
      },
      "file_extension": ".py",
      "mimetype": "text/x-python",
      "name": "python",
      "nbconvert_exporter": "python",
      "pygments_lexer": "ipython3",
      "version": "3.9.15"
    },
    "colab": {
      "provenance": [],
      "gpuType": "T4",
      "machine_shape": "hm"
    },
    "accelerator": "GPU"
  },
  "nbformat": 4,
  "nbformat_minor": 5
}